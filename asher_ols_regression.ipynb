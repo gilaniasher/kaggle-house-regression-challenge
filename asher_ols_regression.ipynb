{
 "cells": [
  {
   "cell_type": "code",
   "execution_count": 1,
   "metadata": {},
   "outputs": [],
   "source": [
    "import pandas as pd\n",
    "import numpy as np\n",
    "from sklearn import linear_model\n",
    "import sklearn.metrics as metrics\n",
    "import statsmodels.api as sm\n",
    "import matplotlib.pyplot as plt\n",
    "import seaborn as sns; sns.set()"
   ]
  },
  {
   "cell_type": "code",
   "execution_count": 2,
   "metadata": {},
   "outputs": [],
   "source": [
    "df = pd.read_csv('./kaggle_data/train.csv')\n",
    "df = df[df.SalePrice < 700000] # Remove some outliers"
   ]
  },
  {
   "cell_type": "code",
   "execution_count": 3,
   "metadata": {},
   "outputs": [],
   "source": [
    "# These are the manually picked columns that are all categorical\n",
    "total_categorical_cols = ['MSZoning', 'Street', 'Alley', 'LandContour', \n",
    "                    'LotConfig', 'Neighborhood', 'Condition1', 'Condition2', 'BldgType', \n",
    "                    'HouseStyle', 'RoofStyle', 'RoofMatl', 'Exterior1st', 'Exterior2nd', 'MasVnrType', \n",
    "                    'Foundation', 'Heating', 'CentralAir', 'PavedDrive',\n",
    "                    'MiscFeature', 'SaleType', 'SaleCondition']\n",
    "\n",
    "# These columns will have to be manually processed\n",
    "total_rating_cols = ['LotShape', 'Utilities', 'LandSlope', 'ExterQual', 'ExterCond', \n",
    "                   'BsmtQual', 'BsmtCond', 'BsmtExposure', 'BsmtFinType1', 'BsmtFinType2',\n",
    "                  'HeatingQC', 'Electrical', 'KitchenQual', 'Functional', 'FireplaceQu',\n",
    "                    'GarageType', 'GarageFinish', 'GarageQual', 'GarageCond', 'PoolQC', 'Fence']\n",
    "\n",
    "#########\n",
    "# Below will be the columns actually used in the model\n",
    "#########\n",
    "#category_cols = ['Neighborhood', 'SaleType', 'HouseStyle', 'LotConfig']\n",
    "category_cols = ['HouseStyle', 'SaleType', 'SaleCondition']\n",
    "\n",
    "rating_cols = ['LotShape', 'LandSlope', 'ExterQual', 'ExterCond', 'BsmtQual', \n",
    "               'BsmtCond', 'BsmtExposure', 'BsmtFinType1', 'BsmtFinType2', \n",
    "               'HeatingQC', 'Electrical', 'KitchenQual', 'Functional',\n",
    "              'GarageType', 'GarageFinish', 'GarageQual', 'GarageCond', 'PoolQC', 'Fence']\n",
    "\n",
    "continuous_cols = ['MSSubClass', 'LotFrontage', 'OverallQual', 'OverallCond', \n",
    "                   'YearBuilt', 'YearRemodAdd', '1stFlrSF', '2ndFlrSF', \n",
    "                   'BsmtFullBath', 'BsmtHalfBath', 'FullBath', 'HalfBath', \n",
    "                   'BedroomAbvGr', 'KitchenAbvGr', 'TotRmsAbvGrd', 'Fireplaces', \n",
    "                   'GarageYrBlt', 'GarageCars', 'PoolArea', 'MoSold', 'YrSold']"
   ]
  },
  {
   "cell_type": "code",
   "execution_count": 4,
   "metadata": {},
   "outputs": [],
   "source": [
    "# Take rating columns and convert to numerical scale\n",
    "rating_df = df.copy()[rating_cols]\n",
    "\n",
    "replace_dict = {'Ex': 5, 'Gd': 4, 'TA': 3, 'Fa': 2, 'Po': 1,\n",
    "               'Reg': 1, 'IR1': 2, 'IR2': 3, 'IR3': 4,\n",
    "               'AllPub': 4, 'NoSewr': 3, 'NoSeWa': 2, 'ELO': 1,\n",
    "               'Gtl': 1, 'Mod': 2, 'Sev': 3,\n",
    "               'NA': 0,\n",
    "               'Av': 3, 'Mn': 2, 'No': 1,\n",
    "               'GLQ': 6, 'ALQ': 5, 'BLQ': 4, 'Rec': 3, 'LwQ': 2, 'Unf': 1,\n",
    "               'SBrkr': 5, 'FuseA': 4, 'FuseF': 3, 'FuseP': 2, 'Mix': 1,\n",
    "               'Typ': 8, 'Min1': 7, 'Min2': 6, 'Mod': 5, 'Maj1': 4, 'Maj2': 3, 'Sev': 2, 'Sal': 1,\n",
    "               '2Types': 6, 'Attchd': 5, 'Basment': 4, 'BuiltIn': 3, 'CarPort': 2, 'Detchd': 1,\n",
    "               'Fin': 3, 'RFn': 2, 'Unf': 1,\n",
    "               'GdPrv': 4, 'MnPrv': 3, 'GdWo': 2, 'MnWw': 1}\n",
    "\n",
    "rating_df.replace(replace_dict, inplace=True)\n",
    "\n",
    "na_to_zero_cols = ['LotShape', 'BsmtQual', 'BsmtCond', 'BsmtExposure', 'BsmtFinType1', 'BsmtFinType2',\n",
    "                  'FireplaceQu', 'GarageType', 'GarageFinish', 'GarageCond', 'GarageQual',\n",
    "                   'PoolQC', 'Fence', 'Electrical']\n",
    "\n",
    "na_to_zero_cols = [col for col in na_to_zero_cols if col in rating_df]\n",
    "\n",
    "rating_df[na_to_zero_cols] = rating_df.loc[:, na_to_zero_cols].fillna(0)"
   ]
  },
  {
   "cell_type": "code",
   "execution_count": 5,
   "metadata": {},
   "outputs": [],
   "source": [
    "# Select categorical columns and get dummy column values (different approach from what we did before with category type)\n",
    "# Preferably pick columns that are not like rating columns (Bad, Okay, Great). We should handle those separately\n",
    "dummy_df = pd.get_dummies(df[category_cols])"
   ]
  },
  {
   "cell_type": "code",
   "execution_count": 6,
   "metadata": {},
   "outputs": [
    {
     "name": "stdout",
     "output_type": "stream",
     "text": [
      "Num rows after filtering out nans: 1125\n"
     ]
    }
   ],
   "source": [
    "YVar = df[['SalePrice']]\n",
    "XVar = pd.concat([df[continuous_cols], dummy_df, rating_df], axis=1)\n",
    "\n",
    "# Filter out nan values\n",
    "YVar = YVar[XVar.notna().all(axis='columns')]\n",
    "XVar = XVar[XVar.notna().all(axis='columns')]\n",
    "\n",
    "print('Num rows after filtering out nans: ' + str(len(XVar)))\n",
    "\n",
    "XVar = XVar.apply(pd.to_numeric)"
   ]
  },
  {
   "cell_type": "code",
   "execution_count": 7,
   "metadata": {},
   "outputs": [],
   "source": [
    "# Split data 80-20 so we can test how well the model works\n",
    "msk = np.random.rand(len(XVar)) < 0.8\n",
    "\n",
    "train_x = XVar[msk]\n",
    "train_y = YVar[msk]\n",
    "\n",
    "test_x = XVar[~msk]\n",
    "test_y = YVar[~msk]"
   ]
  },
  {
   "cell_type": "code",
   "execution_count": 8,
   "metadata": {},
   "outputs": [
    {
     "name": "stdout",
     "output_type": "stream",
     "text": [
      "r2:  0.8381\n",
      "RMSE:  30906.0377\n"
     ]
    }
   ],
   "source": [
    "# Run linear regression with sklearn\n",
    "regr = linear_model.LinearRegression()\n",
    "regr.fit(train_x, train_y)\n",
    "\n",
    "# Make predictions using the testing set, then convert to pandas series\n",
    "saleprice_preds = regr.predict(test_x)\n",
    "saleprice_preds = pd.Series([x for lst in saleprice_preds for x in lst])\n",
    "\n",
    "# Print out coefficient information (coefficient of determination is perfect if it is 1)\n",
    "#print('Coefficients: \\n', regr.coef_)\n",
    "mse = metrics.mean_squared_error(test_y, saleprice_preds) \n",
    "r2 = metrics.r2_score(test_y, saleprice_preds)\n",
    "\n",
    "print('r2: ', round(r2,4))\n",
    "print('RMSE: ', round(np.sqrt(mse),4))"
   ]
  },
  {
   "cell_type": "code",
   "execution_count": 9,
   "metadata": {},
   "outputs": [
    {
     "data": {
      "text/html": [
       "<div>\n",
       "<style scoped>\n",
       "    .dataframe tbody tr th:only-of-type {\n",
       "        vertical-align: middle;\n",
       "    }\n",
       "\n",
       "    .dataframe tbody tr th {\n",
       "        vertical-align: top;\n",
       "    }\n",
       "\n",
       "    .dataframe thead th {\n",
       "        text-align: right;\n",
       "    }\n",
       "</style>\n",
       "<table border=\"1\" class=\"dataframe\">\n",
       "  <thead>\n",
       "    <tr style=\"text-align: right;\">\n",
       "      <th></th>\n",
       "      <th>actual_price</th>\n",
       "      <th>predicted_price</th>\n",
       "    </tr>\n",
       "  </thead>\n",
       "  <tbody>\n",
       "    <tr>\n",
       "      <td>0</td>\n",
       "      <td>307000</td>\n",
       "      <td>267164.0</td>\n",
       "    </tr>\n",
       "    <tr>\n",
       "      <td>1</td>\n",
       "      <td>129500</td>\n",
       "      <td>112135.0</td>\n",
       "    </tr>\n",
       "    <tr>\n",
       "      <td>2</td>\n",
       "      <td>159000</td>\n",
       "      <td>159353.0</td>\n",
       "    </tr>\n",
       "    <tr>\n",
       "      <td>3</td>\n",
       "      <td>306000</td>\n",
       "      <td>275309.0</td>\n",
       "    </tr>\n",
       "    <tr>\n",
       "      <td>4</td>\n",
       "      <td>207500</td>\n",
       "      <td>175619.0</td>\n",
       "    </tr>\n",
       "    <tr>\n",
       "      <td>...</td>\n",
       "      <td>...</td>\n",
       "      <td>...</td>\n",
       "    </tr>\n",
       "    <tr>\n",
       "      <td>238</td>\n",
       "      <td>140000</td>\n",
       "      <td>143114.0</td>\n",
       "    </tr>\n",
       "    <tr>\n",
       "      <td>239</td>\n",
       "      <td>64500</td>\n",
       "      <td>68041.0</td>\n",
       "    </tr>\n",
       "    <tr>\n",
       "      <td>240</td>\n",
       "      <td>120500</td>\n",
       "      <td>104428.0</td>\n",
       "    </tr>\n",
       "    <tr>\n",
       "      <td>241</td>\n",
       "      <td>179600</td>\n",
       "      <td>204785.0</td>\n",
       "    </tr>\n",
       "    <tr>\n",
       "      <td>242</td>\n",
       "      <td>287090</td>\n",
       "      <td>273363.0</td>\n",
       "    </tr>\n",
       "  </tbody>\n",
       "</table>\n",
       "<p>243 rows × 2 columns</p>\n",
       "</div>"
      ],
      "text/plain": [
       "     actual_price  predicted_price\n",
       "0          307000         267164.0\n",
       "1          129500         112135.0\n",
       "2          159000         159353.0\n",
       "3          306000         275309.0\n",
       "4          207500         175619.0\n",
       "..            ...              ...\n",
       "238        140000         143114.0\n",
       "239         64500          68041.0\n",
       "240        120500         104428.0\n",
       "241        179600         204785.0\n",
       "242        287090         273363.0\n",
       "\n",
       "[243 rows x 2 columns]"
      ]
     },
     "execution_count": 9,
     "metadata": {},
     "output_type": "execute_result"
    }
   ],
   "source": [
    "# Construct the results dataframe\n",
    "actual_price = test_y.reset_index()['SalePrice']\n",
    "pred_price = saleprice_preds.round()\n",
    "\n",
    "res = pd.DataFrame({'actual_price': actual_price, 'predicted_price': pred_price})\n",
    "res"
   ]
  },
  {
   "cell_type": "code",
   "execution_count": 10,
   "metadata": {},
   "outputs": [
    {
     "data": {
      "text/html": [
       "<div>\n",
       "<style scoped>\n",
       "    .dataframe tbody tr th:only-of-type {\n",
       "        vertical-align: middle;\n",
       "    }\n",
       "\n",
       "    .dataframe tbody tr th {\n",
       "        vertical-align: top;\n",
       "    }\n",
       "\n",
       "    .dataframe thead th {\n",
       "        text-align: right;\n",
       "    }\n",
       "</style>\n",
       "<table border=\"1\" class=\"dataframe\">\n",
       "  <thead>\n",
       "    <tr style=\"text-align: right;\">\n",
       "      <th></th>\n",
       "      <th>actual_price</th>\n",
       "      <th>predicted_price</th>\n",
       "      <th>residual</th>\n",
       "      <th>percent_diff</th>\n",
       "    </tr>\n",
       "  </thead>\n",
       "  <tbody>\n",
       "    <tr>\n",
       "      <td>0</td>\n",
       "      <td>307000</td>\n",
       "      <td>267164.0</td>\n",
       "      <td>39836.0</td>\n",
       "      <td>12.98</td>\n",
       "    </tr>\n",
       "    <tr>\n",
       "      <td>1</td>\n",
       "      <td>129500</td>\n",
       "      <td>112135.0</td>\n",
       "      <td>17365.0</td>\n",
       "      <td>13.41</td>\n",
       "    </tr>\n",
       "    <tr>\n",
       "      <td>2</td>\n",
       "      <td>159000</td>\n",
       "      <td>159353.0</td>\n",
       "      <td>-353.0</td>\n",
       "      <td>-0.22</td>\n",
       "    </tr>\n",
       "    <tr>\n",
       "      <td>3</td>\n",
       "      <td>306000</td>\n",
       "      <td>275309.0</td>\n",
       "      <td>30691.0</td>\n",
       "      <td>10.03</td>\n",
       "    </tr>\n",
       "    <tr>\n",
       "      <td>4</td>\n",
       "      <td>207500</td>\n",
       "      <td>175619.0</td>\n",
       "      <td>31881.0</td>\n",
       "      <td>15.36</td>\n",
       "    </tr>\n",
       "    <tr>\n",
       "      <td>...</td>\n",
       "      <td>...</td>\n",
       "      <td>...</td>\n",
       "      <td>...</td>\n",
       "      <td>...</td>\n",
       "    </tr>\n",
       "    <tr>\n",
       "      <td>238</td>\n",
       "      <td>140000</td>\n",
       "      <td>143114.0</td>\n",
       "      <td>-3114.0</td>\n",
       "      <td>-2.22</td>\n",
       "    </tr>\n",
       "    <tr>\n",
       "      <td>239</td>\n",
       "      <td>64500</td>\n",
       "      <td>68041.0</td>\n",
       "      <td>-3541.0</td>\n",
       "      <td>-5.49</td>\n",
       "    </tr>\n",
       "    <tr>\n",
       "      <td>240</td>\n",
       "      <td>120500</td>\n",
       "      <td>104428.0</td>\n",
       "      <td>16072.0</td>\n",
       "      <td>13.34</td>\n",
       "    </tr>\n",
       "    <tr>\n",
       "      <td>241</td>\n",
       "      <td>179600</td>\n",
       "      <td>204785.0</td>\n",
       "      <td>-25185.0</td>\n",
       "      <td>-14.02</td>\n",
       "    </tr>\n",
       "    <tr>\n",
       "      <td>242</td>\n",
       "      <td>287090</td>\n",
       "      <td>273363.0</td>\n",
       "      <td>13727.0</td>\n",
       "      <td>4.78</td>\n",
       "    </tr>\n",
       "  </tbody>\n",
       "</table>\n",
       "<p>243 rows × 4 columns</p>\n",
       "</div>"
      ],
      "text/plain": [
       "     actual_price  predicted_price  residual  percent_diff\n",
       "0          307000         267164.0   39836.0         12.98\n",
       "1          129500         112135.0   17365.0         13.41\n",
       "2          159000         159353.0    -353.0         -0.22\n",
       "3          306000         275309.0   30691.0         10.03\n",
       "4          207500         175619.0   31881.0         15.36\n",
       "..            ...              ...       ...           ...\n",
       "238        140000         143114.0   -3114.0         -2.22\n",
       "239         64500          68041.0   -3541.0         -5.49\n",
       "240        120500         104428.0   16072.0         13.34\n",
       "241        179600         204785.0  -25185.0        -14.02\n",
       "242        287090         273363.0   13727.0          4.78\n",
       "\n",
       "[243 rows x 4 columns]"
      ]
     },
     "execution_count": 10,
     "metadata": {},
     "output_type": "execute_result"
    }
   ],
   "source": [
    "res['residual'] = res.actual_price - res.predicted_price\n",
    "res['percent_diff'] = (res['residual'] / res.actual_price * 100).round(decimals=2)\n",
    "res"
   ]
  },
  {
   "cell_type": "code",
   "execution_count": 11,
   "metadata": {},
   "outputs": [
    {
     "name": "stdout",
     "output_type": "stream",
     "text": [
      "Average percent_difference: 13.12\n"
     ]
    }
   ],
   "source": [
    "print('Average percent_difference: %.2f' % (res.percent_diff.abs().mean()))"
   ]
  },
  {
   "cell_type": "code",
   "execution_count": 12,
   "metadata": {},
   "outputs": [
    {
     "data": {
      "text/plain": [
       "<matplotlib.legend.Legend at 0x19687d22e48>"
      ]
     },
     "execution_count": 12,
     "metadata": {},
     "output_type": "execute_result"
    },
    {
     "data": {
      "image/png": "[encoded data removed]",
      "text/plain": [
       "<Figure size 432x288 with 1 Axes>"
      ]
     },
     "metadata": {
      "needs_background": "light"
     },
     "output_type": "display_data"
    }
   ],
   "source": [
    "# Predicted price is actually really close to actual, but not when actual price is very very high\n",
    "#res.plot(kind='line', y=['actual_price', 'predicted_price'])\n",
    "#plt.plot(res.predicted_price, 'r--', res.actual_price)\n",
    "#plt.show()\n",
    "\n",
    "#sns.lineplot(data=res[['actual_price', 'predicted_price']])\n",
    "sns_plot = sns.lineplot(data=res.actual_price, linewidth=2.5, label='Actual Price')\n",
    "sns_plot = sns.lineplot(data=res.predicted_price, color='maroon', linewidth=2.5, label='Predicted Price')\n",
    "sns_plot.legend()"
   ]
  },
  {
   "cell_type": "code",
   "execution_count": 16,
   "metadata": {},
   "outputs": [
    {
     "data": {
      "text/plain": [
       "(-200000, 300000)"
      ]
     },
     "execution_count": 16,
     "metadata": {},
     "output_type": "execute_result"
    },
    {
     "data": {
      "image/png": "[encoded data removed]",
      "text/plain": [
       "<Figure size 432x288 with 1 Axes>"
      ]
     },
     "metadata": {
      "needs_background": "light"
     },
     "output_type": "display_data"
    }
   ],
   "source": [
    "res2 = res[res.residual < 150000]\n",
    "res2.plot(kind='line', y='residual')\n",
    "plt.ylim(-200000, 300000)"
   ]
  },
  {
   "cell_type": "code",
   "execution_count": null,
   "metadata": {},
   "outputs": [],
   "source": []
  }
 ],
 "metadata": {
  "kernelspec": {
   "display_name": "Python 3.7.4 64-bit ('base': conda)",
   "language": "python",
   "name": "python37464bitbaseconda536c566210f0426bb8cfea15c7ee20a0"
  },
  "language_info": {
   "codemirror_mode": {
    "name": "ipython",
    "version": 3
   },
   "file_extension": ".py",
   "mimetype": "text/x-python",
   "name": "python",
   "nbconvert_exporter": "python",
   "pygments_lexer": "ipython3",
   "version": "3.7.4"
  }
 },
 "nbformat": 4,
 "nbformat_minor": 2
}
